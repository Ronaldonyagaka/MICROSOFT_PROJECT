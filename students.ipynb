{
 "cells": [
  {
   "attachments": {},
   "cell_type": "markdown",
   "metadata": {},
   "source": [
    "<span style=\"color:cyan\">\n",
    "\n",
    "\n",
    "## MICROSOFT MOVIE STUDIO ANALYSIS"
   ]
  },
  {
   "attachments": {},
   "cell_type": "markdown",
   "metadata": {},
   "source": [
    "![microsoft hollywood](windows-hollywood-feature.jpg)"
   ]
  },
  {
   "attachments": {},
   "cell_type": "markdown",
   "metadata": {},
   "source": [
    "<span style=\"color:cyan\">\n",
    "\n",
    "##### AUTHOR : RONALD ONGORI NYAGAKA"
   ]
  },
  {
   "attachments": {},
   "cell_type": "markdown",
   "metadata": {},
   "source": [
    "<span style=\"color:blue\">\n",
    "\n",
    "\n",
    "\n",
    "### BUSINESS OVERVIEW\n",
    "\n",
    "\n"
   ]
  },
  {
   "attachments": {},
   "cell_type": "markdown",
   "metadata": {},
   "source": [
    "This analysis breaks down the threats to entry into the movie industry by Microsoft that is predominantly a technological company and makes recommendations to tackle this.\n",
    "\n",
    "Insights gained from analysis of selected data sets dictates that Microsoft should use marketing and production strategies used by the top three movie studios\n",
    "\n",
    "focus their initial movie production to some of the most popular genres and\n",
    "\n",
    "keep in mind that huge movie budgets will not necessarily translate to \n",
    "\n",
    "higher returns instead they should look more into qualitative aspects of movie making like writing and hiring seasoned directors.\n",
    "\n",
    "#"
   ]
  },
  {
   "attachments": {},
   "cell_type": "markdown",
   "metadata": {},
   "source": [
    "<span style=\"color:blue\">\n",
    "\n",
    "\n",
    "## BUSINESS PROBLEM"
   ]
  },
  {
   "attachments": {},
   "cell_type": "markdown",
   "metadata": {},
   "source": [
    "\n",
    "![business problems](problems3.png)\n",
    "\n",
    "\n",
    "\n",
    "- Competition in the movie industry against popular movie studios\n",
    "- Profitability in terms of Cost of production compared to the returns\n",
    "- Finding the most popular genres to invest in\n"
   ]
  },
  {
   "attachments": {},
   "cell_type": "markdown",
   "metadata": {},
   "source": [
    "<span style=\"color:blue\">\n",
    "\n",
    "## DATA UNDERSTANDING \n"
   ]
  },
  {
   "attachments": {},
   "cell_type": "markdown",
   "metadata": {},
   "source": [
    "\n",
    "![data understandng](dd.jpg)\n",
    "\n",
    "##\n",
    "\n",
    "The data sets provided contain a  varying array of information paramount to analyzing our business problems. Three data sets have been chosen:\n",
    "\n",
    "im.db database which contains movie basics and rating tables that highlight different genres and their popularity as judged by the number of votes\n",
    "\n",
    "t.movie_budget that gives a break down of costs and returns of movies that will sorted according to total grossing against the production budget\n",
    "\n",
    "bom_movie_gross that gives a highlight of gross returns of movie studio of a certain amount of time\n",
    "\n"
   ]
  },
  {
   "cell_type": "code",
   "execution_count": 2,
   "metadata": {},
   "outputs": [],
   "source": [
    "# IMPORTING ALL THE NECESSARY LIBRARIES\n",
    "\n",
    "import pandas as pd\n",
    "import numpy as np\n",
    "import matplotlib.pyplot as plt\n",
    "import seaborn as sns\n",
    "%matplotlib inline\n",
    "import sqlite3\n",
    "conn = sqlite3.connect('im.db')\n",
    "cur = conn.cursor()\n"
   ]
  },
  {
   "attachments": {},
   "cell_type": "markdown",
   "metadata": {},
   "source": [
    "\n",
    "\n",
    "### DATA CLEANING OF IM.DB DATABASE"
   ]
  },
  {
   "cell_type": "code",
   "execution_count": 3,
   "metadata": {},
   "outputs": [
    {
     "data": {
      "text/plain": [
       "[('movie_basics',),\n",
       " ('directors',),\n",
       " ('known_for',),\n",
       " ('movie_akas',),\n",
       " ('movie_ratings',),\n",
       " ('persons',),\n",
       " ('principals',),\n",
       " ('writers',)]"
      ]
     },
     "execution_count": 3,
     "metadata": {},
     "output_type": "execute_result"
    }
   ],
   "source": [
    "# Finding the table names of all tables in our im.db database\n",
    "\n",
    "cur.execute(\"SELECT name FROM sqlite_master WHERE type='table';\")\n",
    "table_names = cur.fetchall()\n",
    "table_names\n"
   ]
  },
  {
   "cell_type": "code",
   "execution_count": 4,
   "metadata": {},
   "outputs": [
    {
     "data": {
      "text/html": [
       "<div>\n",
       "<style scoped>\n",
       "    .dataframe tbody tr th:only-of-type {\n",
       "        vertical-align: middle;\n",
       "    }\n",
       "\n",
       "    .dataframe tbody tr th {\n",
       "        vertical-align: top;\n",
       "    }\n",
       "\n",
       "    .dataframe thead th {\n",
       "        text-align: right;\n",
       "    }\n",
       "</style>\n",
       "<table border=\"1\" class=\"dataframe\">\n",
       "  <thead>\n",
       "    <tr style=\"text-align: right;\">\n",
       "      <th></th>\n",
       "      <th>movie_id</th>\n",
       "      <th>primary_title</th>\n",
       "      <th>original_title</th>\n",
       "      <th>start_year</th>\n",
       "      <th>runtime_minutes</th>\n",
       "      <th>genres</th>\n",
       "    </tr>\n",
       "  </thead>\n",
       "  <tbody>\n",
       "    <tr>\n",
       "      <th>0</th>\n",
       "      <td>tt0063540</td>\n",
       "      <td>Sunghursh</td>\n",
       "      <td>Sunghursh</td>\n",
       "      <td>2013</td>\n",
       "      <td>175.0</td>\n",
       "      <td>Action,Crime,Drama</td>\n",
       "    </tr>\n",
       "    <tr>\n",
       "      <th>1</th>\n",
       "      <td>tt0066787</td>\n",
       "      <td>One Day Before the Rainy Season</td>\n",
       "      <td>Ashad Ka Ek Din</td>\n",
       "      <td>2019</td>\n",
       "      <td>114.0</td>\n",
       "      <td>Biography,Drama</td>\n",
       "    </tr>\n",
       "    <tr>\n",
       "      <th>2</th>\n",
       "      <td>tt0069049</td>\n",
       "      <td>The Other Side of the Wind</td>\n",
       "      <td>The Other Side of the Wind</td>\n",
       "      <td>2018</td>\n",
       "      <td>122.0</td>\n",
       "      <td>Drama</td>\n",
       "    </tr>\n",
       "    <tr>\n",
       "      <th>3</th>\n",
       "      <td>tt0069204</td>\n",
       "      <td>Sabse Bada Sukh</td>\n",
       "      <td>Sabse Bada Sukh</td>\n",
       "      <td>2018</td>\n",
       "      <td>NaN</td>\n",
       "      <td>Comedy,Drama</td>\n",
       "    </tr>\n",
       "    <tr>\n",
       "      <th>4</th>\n",
       "      <td>tt0100275</td>\n",
       "      <td>The Wandering Soap Opera</td>\n",
       "      <td>La Telenovela Errante</td>\n",
       "      <td>2017</td>\n",
       "      <td>80.0</td>\n",
       "      <td>Comedy,Drama,Fantasy</td>\n",
       "    </tr>\n",
       "  </tbody>\n",
       "</table>\n",
       "</div>"
      ],
      "text/plain": [
       "    movie_id                    primary_title              original_title  \\\n",
       "0  tt0063540                        Sunghursh                   Sunghursh   \n",
       "1  tt0066787  One Day Before the Rainy Season             Ashad Ka Ek Din   \n",
       "2  tt0069049       The Other Side of the Wind  The Other Side of the Wind   \n",
       "3  tt0069204                  Sabse Bada Sukh             Sabse Bada Sukh   \n",
       "4  tt0100275         The Wandering Soap Opera       La Telenovela Errante   \n",
       "\n",
       "   start_year  runtime_minutes                genres  \n",
       "0        2013            175.0    Action,Crime,Drama  \n",
       "1        2019            114.0       Biography,Drama  \n",
       "2        2018            122.0                 Drama  \n",
       "3        2018              NaN          Comedy,Drama  \n",
       "4        2017             80.0  Comedy,Drama,Fantasy  "
      ]
     },
     "execution_count": 4,
     "metadata": {},
     "output_type": "execute_result"
    }
   ],
   "source": [
    "# previewing the columns and rows of the first data set to get an understanding of the data contained\n",
    "\n",
    "df1 = pd.read_sql(\"\"\"\n",
    "        SELECT*\n",
    "        FROM movie_basics;\n",
    "                  \"\"\", conn)\n",
    "df1.head()\n"
   ]
  },
  {
   "cell_type": "code",
   "execution_count": 5,
   "metadata": {},
   "outputs": [
    {
     "data": {
      "text/html": [
       "<div>\n",
       "<style scoped>\n",
       "    .dataframe tbody tr th:only-of-type {\n",
       "        vertical-align: middle;\n",
       "    }\n",
       "\n",
       "    .dataframe tbody tr th {\n",
       "        vertical-align: top;\n",
       "    }\n",
       "\n",
       "    .dataframe thead th {\n",
       "        text-align: right;\n",
       "    }\n",
       "</style>\n",
       "<table border=\"1\" class=\"dataframe\">\n",
       "  <thead>\n",
       "    <tr style=\"text-align: right;\">\n",
       "      <th></th>\n",
       "      <th>movie_id</th>\n",
       "      <th>averagerating</th>\n",
       "      <th>numvotes</th>\n",
       "    </tr>\n",
       "  </thead>\n",
       "  <tbody>\n",
       "    <tr>\n",
       "      <th>0</th>\n",
       "      <td>tt10356526</td>\n",
       "      <td>8.3</td>\n",
       "      <td>31</td>\n",
       "    </tr>\n",
       "    <tr>\n",
       "      <th>1</th>\n",
       "      <td>tt10384606</td>\n",
       "      <td>8.9</td>\n",
       "      <td>559</td>\n",
       "    </tr>\n",
       "    <tr>\n",
       "      <th>2</th>\n",
       "      <td>tt1042974</td>\n",
       "      <td>6.4</td>\n",
       "      <td>20</td>\n",
       "    </tr>\n",
       "    <tr>\n",
       "      <th>3</th>\n",
       "      <td>tt1043726</td>\n",
       "      <td>4.2</td>\n",
       "      <td>50352</td>\n",
       "    </tr>\n",
       "    <tr>\n",
       "      <th>4</th>\n",
       "      <td>tt1060240</td>\n",
       "      <td>6.5</td>\n",
       "      <td>21</td>\n",
       "    </tr>\n",
       "  </tbody>\n",
       "</table>\n",
       "</div>"
      ],
      "text/plain": [
       "     movie_id  averagerating  numvotes\n",
       "0  tt10356526            8.3        31\n",
       "1  tt10384606            8.9       559\n",
       "2   tt1042974            6.4        20\n",
       "3   tt1043726            4.2     50352\n",
       "4   tt1060240            6.5        21"
      ]
     },
     "execution_count": 5,
     "metadata": {},
     "output_type": "execute_result"
    }
   ],
   "source": [
    "# previewing the columns and rows of the second data set to get an understanding of the data contained\n",
    "\n",
    "df2 = pd.read_sql(\"\"\"\n",
    "        SELECT*\n",
    "        FROM movie_ratings;\n",
    "                  \"\"\", conn)\n",
    "df2.head()"
   ]
  },
  {
   "cell_type": "code",
   "execution_count": 6,
   "metadata": {},
   "outputs": [
    {
     "data": {
      "text/html": [
       "<div>\n",
       "<style scoped>\n",
       "    .dataframe tbody tr th:only-of-type {\n",
       "        vertical-align: middle;\n",
       "    }\n",
       "\n",
       "    .dataframe tbody tr th {\n",
       "        vertical-align: top;\n",
       "    }\n",
       "\n",
       "    .dataframe thead th {\n",
       "        text-align: right;\n",
       "    }\n",
       "</style>\n",
       "<table border=\"1\" class=\"dataframe\">\n",
       "  <thead>\n",
       "    <tr style=\"text-align: right;\">\n",
       "      <th></th>\n",
       "      <th>primary_title</th>\n",
       "      <th>start_year</th>\n",
       "      <th>genres</th>\n",
       "      <th>averagerating</th>\n",
       "      <th>numvotes</th>\n",
       "    </tr>\n",
       "  </thead>\n",
       "  <tbody>\n",
       "    <tr>\n",
       "      <th>0</th>\n",
       "      <td>Inception</td>\n",
       "      <td>2010</td>\n",
       "      <td>Action,Adventure,Sci-Fi</td>\n",
       "      <td>8.8</td>\n",
       "      <td>1841066</td>\n",
       "    </tr>\n",
       "    <tr>\n",
       "      <th>1</th>\n",
       "      <td>The Dark Knight Rises</td>\n",
       "      <td>2012</td>\n",
       "      <td>Action,Thriller</td>\n",
       "      <td>8.4</td>\n",
       "      <td>1387769</td>\n",
       "    </tr>\n",
       "    <tr>\n",
       "      <th>2</th>\n",
       "      <td>Interstellar</td>\n",
       "      <td>2014</td>\n",
       "      <td>Adventure,Drama,Sci-Fi</td>\n",
       "      <td>8.6</td>\n",
       "      <td>1299334</td>\n",
       "    </tr>\n",
       "    <tr>\n",
       "      <th>3</th>\n",
       "      <td>Django Unchained</td>\n",
       "      <td>2012</td>\n",
       "      <td>Drama,Western</td>\n",
       "      <td>8.4</td>\n",
       "      <td>1211405</td>\n",
       "    </tr>\n",
       "    <tr>\n",
       "      <th>4</th>\n",
       "      <td>The Avengers</td>\n",
       "      <td>2012</td>\n",
       "      <td>Action,Adventure,Sci-Fi</td>\n",
       "      <td>8.1</td>\n",
       "      <td>1183655</td>\n",
       "    </tr>\n",
       "  </tbody>\n",
       "</table>\n",
       "</div>"
      ],
      "text/plain": [
       "           primary_title  start_year                   genres  averagerating  \\\n",
       "0              Inception        2010  Action,Adventure,Sci-Fi            8.8   \n",
       "1  The Dark Knight Rises        2012          Action,Thriller            8.4   \n",
       "2           Interstellar        2014   Adventure,Drama,Sci-Fi            8.6   \n",
       "3       Django Unchained        2012            Drama,Western            8.4   \n",
       "4           The Avengers        2012  Action,Adventure,Sci-Fi            8.1   \n",
       "\n",
       "   numvotes  \n",
       "0   1841066  \n",
       "1   1387769  \n",
       "2   1299334  \n",
       "3   1211405  \n",
       "4   1183655  "
      ]
     },
     "execution_count": 6,
     "metadata": {},
     "output_type": "execute_result"
    }
   ],
   "source": [
    "# combining the two tables and stripping off the columns that are not needed\n",
    "\n",
    "df3  = pd.read_sql(\"\"\"\n",
    "         SELECT primary_title, start_year, genres, averagerating, numvotes\n",
    "         FROM movie_basics AS MBB\n",
    "         JOIN movie_ratings AS MRR\n",
    "           ON MBB.movie_id = MRR.movie_id\n",
    "          WHERE numvotes > 500000 AND averagerating > 7\n",
    "          ORDER BY numvotes DESC\n",
    "          LIMIT 50;          \n",
    "                   \"\"\", conn)\n",
    "df3.head()"
   ]
  },
  {
   "cell_type": "code",
   "execution_count": 7,
   "metadata": {},
   "outputs": [
    {
     "data": {
      "text/plain": [
       "primary_title    0\n",
       "start_year       0\n",
       "genres           0\n",
       "averagerating    0\n",
       "numvotes         0\n",
       "dtype: int64"
      ]
     },
     "execution_count": 7,
     "metadata": {},
     "output_type": "execute_result"
    }
   ],
   "source": [
    "# determining whether there are any null values\n",
    "\n",
    "df3.isna().sum()"
   ]
  },
  {
   "cell_type": "code",
   "execution_count": 8,
   "metadata": {},
   "outputs": [
    {
     "data": {
      "text/plain": [
       "False    50\n",
       "dtype: int64"
      ]
     },
     "execution_count": 8,
     "metadata": {},
     "output_type": "execute_result"
    }
   ],
   "source": [
    "# determining whether duplicates exist \n",
    "\n",
    "df3.duplicated().value_counts()"
   ]
  },
  {
   "attachments": {},
   "cell_type": "markdown",
   "metadata": {},
   "source": [
    "There no null or duplicated items in our data, the data is clean and we have made a dataframe (df3) containing all relevant columns for our analysis of \n",
    "\n",
    "popular genres as determined by numvotes column\n",
    "\n",
    "\n",
    "\n",
    "##\n",
    "\n"
   ]
  },
  {
   "attachments": {},
   "cell_type": "markdown",
   "metadata": {},
   "source": [
    "### DATA CLEANING TN.MOVIE_BUDGET.CSV "
   ]
  },
  {
   "cell_type": "code",
   "execution_count": 9,
   "metadata": {},
   "outputs": [
    {
     "data": {
      "text/html": [
       "<div>\n",
       "<style scoped>\n",
       "    .dataframe tbody tr th:only-of-type {\n",
       "        vertical-align: middle;\n",
       "    }\n",
       "\n",
       "    .dataframe tbody tr th {\n",
       "        vertical-align: top;\n",
       "    }\n",
       "\n",
       "    .dataframe thead th {\n",
       "        text-align: right;\n",
       "    }\n",
       "</style>\n",
       "<table border=\"1\" class=\"dataframe\">\n",
       "  <thead>\n",
       "    <tr style=\"text-align: right;\">\n",
       "      <th></th>\n",
       "      <th>release_date</th>\n",
       "      <th>movie</th>\n",
       "      <th>production_budget</th>\n",
       "      <th>domestic_gross</th>\n",
       "      <th>worldwide_gross</th>\n",
       "    </tr>\n",
       "    <tr>\n",
       "      <th>id</th>\n",
       "      <th></th>\n",
       "      <th></th>\n",
       "      <th></th>\n",
       "      <th></th>\n",
       "      <th></th>\n",
       "    </tr>\n",
       "  </thead>\n",
       "  <tbody>\n",
       "    <tr>\n",
       "      <th>1</th>\n",
       "      <td>Dec 18, 2009</td>\n",
       "      <td>Avatar</td>\n",
       "      <td>$425,000,000</td>\n",
       "      <td>$760,507,625</td>\n",
       "      <td>$2,776,345,279</td>\n",
       "    </tr>\n",
       "    <tr>\n",
       "      <th>2</th>\n",
       "      <td>May 20, 2011</td>\n",
       "      <td>Pirates of the Caribbean: On Stranger Tides</td>\n",
       "      <td>$410,600,000</td>\n",
       "      <td>$241,063,875</td>\n",
       "      <td>$1,045,663,875</td>\n",
       "    </tr>\n",
       "    <tr>\n",
       "      <th>3</th>\n",
       "      <td>Jun 7, 2019</td>\n",
       "      <td>Dark Phoenix</td>\n",
       "      <td>$350,000,000</td>\n",
       "      <td>$42,762,350</td>\n",
       "      <td>$149,762,350</td>\n",
       "    </tr>\n",
       "    <tr>\n",
       "      <th>4</th>\n",
       "      <td>May 1, 2015</td>\n",
       "      <td>Avengers: Age of Ultron</td>\n",
       "      <td>$330,600,000</td>\n",
       "      <td>$459,005,868</td>\n",
       "      <td>$1,403,013,963</td>\n",
       "    </tr>\n",
       "    <tr>\n",
       "      <th>5</th>\n",
       "      <td>Dec 15, 2017</td>\n",
       "      <td>Star Wars Ep. VIII: The Last Jedi</td>\n",
       "      <td>$317,000,000</td>\n",
       "      <td>$620,181,382</td>\n",
       "      <td>$1,316,721,747</td>\n",
       "    </tr>\n",
       "  </tbody>\n",
       "</table>\n",
       "</div>"
      ],
      "text/plain": [
       "    release_date                                        movie  \\\n",
       "id                                                              \n",
       "1   Dec 18, 2009                                       Avatar   \n",
       "2   May 20, 2011  Pirates of the Caribbean: On Stranger Tides   \n",
       "3    Jun 7, 2019                                 Dark Phoenix   \n",
       "4    May 1, 2015                      Avengers: Age of Ultron   \n",
       "5   Dec 15, 2017            Star Wars Ep. VIII: The Last Jedi   \n",
       "\n",
       "   production_budget domestic_gross worldwide_gross  \n",
       "id                                                   \n",
       "1       $425,000,000   $760,507,625  $2,776,345,279  \n",
       "2       $410,600,000   $241,063,875  $1,045,663,875  \n",
       "3       $350,000,000    $42,762,350    $149,762,350  \n",
       "4       $330,600,000   $459,005,868  $1,403,013,963  \n",
       "5       $317,000,000   $620,181,382  $1,316,721,747  "
      ]
     },
     "execution_count": 9,
     "metadata": {},
     "output_type": "execute_result"
    }
   ],
   "source": [
    "#loading and viewing the data\n",
    "\n",
    "mov_budg = pd.read_csv('tn.movie_budgets.csv', index_col= 0)\n",
    "mov_budg.head()"
   ]
  },
  {
   "cell_type": "code",
   "execution_count": 10,
   "metadata": {},
   "outputs": [
    {
     "data": {
      "text/plain": [
       "release_date         0\n",
       "movie                0\n",
       "production_budget    0\n",
       "domestic_gross       0\n",
       "worldwide_gross      0\n",
       "dtype: int64"
      ]
     },
     "execution_count": 10,
     "metadata": {},
     "output_type": "execute_result"
    }
   ],
   "source": [
    "# checking for null values within the data set.\n",
    "mov_budg.isna().sum()\n"
   ]
  },
  {
   "cell_type": "code",
   "execution_count": 11,
   "metadata": {},
   "outputs": [
    {
     "data": {
      "text/plain": [
       "False    5782\n",
       "dtype: int64"
      ]
     },
     "execution_count": 11,
     "metadata": {},
     "output_type": "execute_result"
    }
   ],
   "source": [
    "# checking for duplicates in the data set\n",
    "\n",
    "mov_budg.duplicated().value_counts()"
   ]
  },
  {
   "cell_type": "code",
   "execution_count": 12,
   "metadata": {},
   "outputs": [
    {
     "name": "stdout",
     "output_type": "stream",
     "text": [
      "<class 'pandas.core.frame.DataFrame'>\n",
      "Int64Index: 5782 entries, 1 to 82\n",
      "Data columns (total 5 columns):\n",
      " #   Column             Non-Null Count  Dtype \n",
      "---  ------             --------------  ----- \n",
      " 0   release_date       5782 non-null   object\n",
      " 1   movie              5782 non-null   object\n",
      " 2   production_budget  5782 non-null   object\n",
      " 3   domestic_gross     5782 non-null   object\n",
      " 4   worldwide_gross    5782 non-null   object\n",
      "dtypes: object(5)\n",
      "memory usage: 271.0+ KB\n"
     ]
    }
   ],
   "source": [
    "# checking for the data type of each series in the data frame.\n",
    "\n",
    "mov_budg.info()"
   ]
  },
  {
   "cell_type": "code",
   "execution_count": 13,
   "metadata": {},
   "outputs": [
    {
     "data": {
      "text/plain": [
       "id\n",
       "1     2.776345e+09\n",
       "2     1.045664e+09\n",
       "3     1.497624e+08\n",
       "4     1.403014e+09\n",
       "5     1.316722e+09\n",
       "          ...     \n",
       "78    0.000000e+00\n",
       "79    2.404950e+05\n",
       "80    1.338000e+03\n",
       "81    0.000000e+00\n",
       "82    1.810410e+05\n",
       "Name: worldwide_gross, Length: 5782, dtype: float64"
      ]
     },
     "execution_count": 13,
     "metadata": {},
     "output_type": "execute_result"
    }
   ],
   "source": [
    "# defining a function to help change specified columns from objects to floats.\n",
    "\n",
    "def remove_symbols(dataframe):\n",
    "    mov_budg[dataframe] = mov_budg[dataframe].apply(lambda x : float(x.replace('$', \"\").replace(\",\", \"\")))\n",
    "    return mov_budg[dataframe]\n",
    "\n",
    "remove_symbols('production_budget')\n",
    "remove_symbols('domestic_gross')\n",
    "remove_symbols('worldwide_gross')\n"
   ]
  },
  {
   "attachments": {},
   "cell_type": "markdown",
   "metadata": {},
   "source": [
    "The release date is not relevant to our analysis as we are determining only the financials of the venture"
   ]
  },
  {
   "cell_type": "code",
   "execution_count": 14,
   "metadata": {},
   "outputs": [],
   "source": [
    "# dropping the release date column as this will not be used during the analysis phase.\n",
    "\n",
    "mov_budg = mov_budg.drop(['release_date'], axis=1)"
   ]
  },
  {
   "attachments": {},
   "cell_type": "markdown",
   "metadata": {},
   "source": [
    "A true picture of profitabilty can be determined by the return on investments\n",
    "\n",
    "(net gross / production_budget )"
   ]
  },
  {
   "cell_type": "code",
   "execution_count": 15,
   "metadata": {},
   "outputs": [],
   "source": [
    "# adding a return on investment column to determine the correlation earnings and costs and profitability between  different movies \n",
    "\n",
    "mov_budg['return_on_inv'] = ((mov_budg['worldwide_gross'] - mov_budg['production_budget']) / mov_budg['production_budget']).round(2)"
   ]
  },
  {
   "cell_type": "code",
   "execution_count": 16,
   "metadata": {},
   "outputs": [
    {
     "data": {
      "text/html": [
       "<div>\n",
       "<style scoped>\n",
       "    .dataframe tbody tr th:only-of-type {\n",
       "        vertical-align: middle;\n",
       "    }\n",
       "\n",
       "    .dataframe tbody tr th {\n",
       "        vertical-align: top;\n",
       "    }\n",
       "\n",
       "    .dataframe thead th {\n",
       "        text-align: right;\n",
       "    }\n",
       "</style>\n",
       "<table border=\"1\" class=\"dataframe\">\n",
       "  <thead>\n",
       "    <tr style=\"text-align: right;\">\n",
       "      <th></th>\n",
       "      <th>movie</th>\n",
       "      <th>production_budget</th>\n",
       "      <th>domestic_gross</th>\n",
       "      <th>worldwide_gross</th>\n",
       "      <th>return_on_inv</th>\n",
       "    </tr>\n",
       "    <tr>\n",
       "      <th>id</th>\n",
       "      <th></th>\n",
       "      <th></th>\n",
       "      <th></th>\n",
       "      <th></th>\n",
       "      <th></th>\n",
       "    </tr>\n",
       "  </thead>\n",
       "  <tbody>\n",
       "    <tr>\n",
       "      <th>14</th>\n",
       "      <td>Mad Max</td>\n",
       "      <td>200000.0</td>\n",
       "      <td>8750000.0</td>\n",
       "      <td>99750000.0</td>\n",
       "      <td>497.75</td>\n",
       "    </tr>\n",
       "    <tr>\n",
       "      <th>93</th>\n",
       "      <td>Paranormal Activity</td>\n",
       "      <td>450000.0</td>\n",
       "      <td>107918810.0</td>\n",
       "      <td>194183034.0</td>\n",
       "      <td>430.52</td>\n",
       "    </tr>\n",
       "    <tr>\n",
       "      <th>80</th>\n",
       "      <td>The Gallows</td>\n",
       "      <td>100000.0</td>\n",
       "      <td>22764410.0</td>\n",
       "      <td>41656474.0</td>\n",
       "      <td>415.56</td>\n",
       "    </tr>\n",
       "    <tr>\n",
       "      <th>7</th>\n",
       "      <td>The Blair Witch Project</td>\n",
       "      <td>600000.0</td>\n",
       "      <td>140539099.0</td>\n",
       "      <td>248300000.0</td>\n",
       "      <td>412.83</td>\n",
       "    </tr>\n",
       "    <tr>\n",
       "      <th>10</th>\n",
       "      <td>Super Size Me</td>\n",
       "      <td>65000.0</td>\n",
       "      <td>11529368.0</td>\n",
       "      <td>22233808.0</td>\n",
       "      <td>341.06</td>\n",
       "    </tr>\n",
       "    <tr>\n",
       "      <th>47</th>\n",
       "      <td>Bambi</td>\n",
       "      <td>858000.0</td>\n",
       "      <td>102797000.0</td>\n",
       "      <td>268000000.0</td>\n",
       "      <td>311.35</td>\n",
       "    </tr>\n",
       "    <tr>\n",
       "      <th>74</th>\n",
       "      <td>El Mariachi</td>\n",
       "      <td>7000.0</td>\n",
       "      <td>2040920.0</td>\n",
       "      <td>2041928.0</td>\n",
       "      <td>290.70</td>\n",
       "    </tr>\n",
       "    <tr>\n",
       "      <th>77</th>\n",
       "      <td>Night of the Living Dead</td>\n",
       "      <td>114000.0</td>\n",
       "      <td>12087064.0</td>\n",
       "      <td>30087064.0</td>\n",
       "      <td>262.92</td>\n",
       "    </tr>\n",
       "    <tr>\n",
       "      <th>11</th>\n",
       "      <td>Rocky</td>\n",
       "      <td>1000000.0</td>\n",
       "      <td>117235147.0</td>\n",
       "      <td>225000000.0</td>\n",
       "      <td>224.00</td>\n",
       "    </tr>\n",
       "    <tr>\n",
       "      <th>37</th>\n",
       "      <td>Halloween</td>\n",
       "      <td>325000.0</td>\n",
       "      <td>47000000.0</td>\n",
       "      <td>70000000.0</td>\n",
       "      <td>214.38</td>\n",
       "    </tr>\n",
       "    <tr>\n",
       "      <th>16</th>\n",
       "      <td>The Brothers McMullen</td>\n",
       "      <td>50000.0</td>\n",
       "      <td>10426506.0</td>\n",
       "      <td>10426506.0</td>\n",
       "      <td>207.53</td>\n",
       "    </tr>\n",
       "    <tr>\n",
       "      <th>66</th>\n",
       "      <td>The Texas Chainsaw Massacre</td>\n",
       "      <td>140000.0</td>\n",
       "      <td>26572439.0</td>\n",
       "      <td>26572439.0</td>\n",
       "      <td>188.80</td>\n",
       "    </tr>\n",
       "    <tr>\n",
       "      <th>73</th>\n",
       "      <td>American Graffiti</td>\n",
       "      <td>777000.0</td>\n",
       "      <td>115000000.0</td>\n",
       "      <td>140000000.0</td>\n",
       "      <td>179.18</td>\n",
       "    </tr>\n",
       "    <tr>\n",
       "      <th>82</th>\n",
       "      <td>My Date With Drew</td>\n",
       "      <td>1100.0</td>\n",
       "      <td>181041.0</td>\n",
       "      <td>181041.0</td>\n",
       "      <td>163.58</td>\n",
       "    </tr>\n",
       "    <tr>\n",
       "      <th>57</th>\n",
       "      <td>Once</td>\n",
       "      <td>150000.0</td>\n",
       "      <td>9445857.0</td>\n",
       "      <td>23323631.0</td>\n",
       "      <td>154.49</td>\n",
       "    </tr>\n",
       "    <tr>\n",
       "      <th>43</th>\n",
       "      <td>Clerks</td>\n",
       "      <td>27000.0</td>\n",
       "      <td>3073428.0</td>\n",
       "      <td>3894240.0</td>\n",
       "      <td>143.23</td>\n",
       "    </tr>\n",
       "    <tr>\n",
       "      <th>13</th>\n",
       "      <td>The Stewardesses</td>\n",
       "      <td>200000.0</td>\n",
       "      <td>13500000.0</td>\n",
       "      <td>25000000.0</td>\n",
       "      <td>124.00</td>\n",
       "    </tr>\n",
       "    <tr>\n",
       "      <th>18</th>\n",
       "      <td>Snow White and the Seven Dwarfs</td>\n",
       "      <td>1488000.0</td>\n",
       "      <td>184925486.0</td>\n",
       "      <td>184925486.0</td>\n",
       "      <td>123.28</td>\n",
       "    </tr>\n",
       "    <tr>\n",
       "      <th>58</th>\n",
       "      <td>Billy Jack</td>\n",
       "      <td>800000.0</td>\n",
       "      <td>98000000.0</td>\n",
       "      <td>98000000.0</td>\n",
       "      <td>121.50</td>\n",
       "    </tr>\n",
       "  </tbody>\n",
       "</table>\n",
       "</div>"
      ],
      "text/plain": [
       "                              movie  production_budget  domestic_gross  \\\n",
       "id                                                                       \n",
       "14                          Mad Max           200000.0       8750000.0   \n",
       "93              Paranormal Activity           450000.0     107918810.0   \n",
       "80                      The Gallows           100000.0      22764410.0   \n",
       "7           The Blair Witch Project           600000.0     140539099.0   \n",
       "10                    Super Size Me            65000.0      11529368.0   \n",
       "47                            Bambi           858000.0     102797000.0   \n",
       "74                      El Mariachi             7000.0       2040920.0   \n",
       "77         Night of the Living Dead           114000.0      12087064.0   \n",
       "11                            Rocky          1000000.0     117235147.0   \n",
       "37                        Halloween           325000.0      47000000.0   \n",
       "16            The Brothers McMullen            50000.0      10426506.0   \n",
       "66      The Texas Chainsaw Massacre           140000.0      26572439.0   \n",
       "73                American Graffiti           777000.0     115000000.0   \n",
       "82                My Date With Drew             1100.0        181041.0   \n",
       "57                             Once           150000.0       9445857.0   \n",
       "43                           Clerks            27000.0       3073428.0   \n",
       "13                 The Stewardesses           200000.0      13500000.0   \n",
       "18  Snow White and the Seven Dwarfs          1488000.0     184925486.0   \n",
       "58                       Billy Jack           800000.0      98000000.0   \n",
       "\n",
       "    worldwide_gross  return_on_inv  \n",
       "id                                  \n",
       "14       99750000.0         497.75  \n",
       "93      194183034.0         430.52  \n",
       "80       41656474.0         415.56  \n",
       "7       248300000.0         412.83  \n",
       "10       22233808.0         341.06  \n",
       "47      268000000.0         311.35  \n",
       "74        2041928.0         290.70  \n",
       "77       30087064.0         262.92  \n",
       "11      225000000.0         224.00  \n",
       "37       70000000.0         214.38  \n",
       "16       10426506.0         207.53  \n",
       "66       26572439.0         188.80  \n",
       "73      140000000.0         179.18  \n",
       "82         181041.0         163.58  \n",
       "57       23323631.0         154.49  \n",
       "43        3894240.0         143.23  \n",
       "13       25000000.0         124.00  \n",
       "18      184925486.0         123.28  \n",
       "58       98000000.0         121.50  "
      ]
     },
     "execution_count": 16,
     "metadata": {},
     "output_type": "execute_result"
    }
   ],
   "source": [
    "# sorting out the movie titles from the most to least profitable using the return on investment column.\n",
    "# the first row was removed since it depicted an outlier that had an ROI of 5 times the second highest grossing movie\n",
    "\n",
    "mov_budg_sample= mov_budg.sort_values(by = 'return_on_inv', ascending= False).head(20).iloc[1:20]\n",
    "mov_budg_sample"
   ]
  },
  {
   "attachments": {},
   "cell_type": "markdown",
   "metadata": {},
   "source": [
    "we have all the top profitable movies in our new dataframe (mov_budg_sample) , and outliers have been removed to standardize our findings\n",
    "\n",
    "This will give us a correlation between production budget and the profitability\n",
    "\n",
    "##\n",
    "\n",
    "##"
   ]
  },
  {
   "attachments": {},
   "cell_type": "markdown",
   "metadata": {},
   "source": [
    "### DATA CLEANING BOM.MOVIE_GROSS.CSV\n"
   ]
  },
  {
   "cell_type": "code",
   "execution_count": 17,
   "metadata": {},
   "outputs": [],
   "source": [
    "# loading the data\n",
    "\n",
    "movie_gross = pd.read_csv('bom.movie_gross.csv')"
   ]
  },
  {
   "cell_type": "code",
   "execution_count": 18,
   "metadata": {},
   "outputs": [
    {
     "name": "stdout",
     "output_type": "stream",
     "text": [
      "<class 'pandas.core.frame.DataFrame'>\n",
      "RangeIndex: 3387 entries, 0 to 3386\n",
      "Data columns (total 5 columns):\n",
      " #   Column          Non-Null Count  Dtype  \n",
      "---  ------          --------------  -----  \n",
      " 0   title           3387 non-null   object \n",
      " 1   studio          3382 non-null   object \n",
      " 2   domestic_gross  3359 non-null   float64\n",
      " 3   foreign_gross   2037 non-null   object \n",
      " 4   year            3387 non-null   int64  \n",
      "dtypes: float64(1), int64(1), object(3)\n",
      "memory usage: 132.4+ KB\n"
     ]
    }
   ],
   "source": [
    "# viewing basic info for the data set\n",
    "\n",
    "movie_gross.info()"
   ]
  },
  {
   "cell_type": "code",
   "execution_count": 19,
   "metadata": {},
   "outputs": [
    {
     "data": {
      "text/html": [
       "<div>\n",
       "<style scoped>\n",
       "    .dataframe tbody tr th:only-of-type {\n",
       "        vertical-align: middle;\n",
       "    }\n",
       "\n",
       "    .dataframe tbody tr th {\n",
       "        vertical-align: top;\n",
       "    }\n",
       "\n",
       "    .dataframe thead th {\n",
       "        text-align: right;\n",
       "    }\n",
       "</style>\n",
       "<table border=\"1\" class=\"dataframe\">\n",
       "  <thead>\n",
       "    <tr style=\"text-align: right;\">\n",
       "      <th></th>\n",
       "      <th>title</th>\n",
       "      <th>studio</th>\n",
       "      <th>domestic_gross</th>\n",
       "      <th>foreign_gross</th>\n",
       "      <th>year</th>\n",
       "    </tr>\n",
       "  </thead>\n",
       "  <tbody>\n",
       "    <tr>\n",
       "      <th>0</th>\n",
       "      <td>Toy Story 3</td>\n",
       "      <td>BV</td>\n",
       "      <td>415000000.0</td>\n",
       "      <td>652000000</td>\n",
       "      <td>2010</td>\n",
       "    </tr>\n",
       "    <tr>\n",
       "      <th>1</th>\n",
       "      <td>Alice in Wonderland (2010)</td>\n",
       "      <td>BV</td>\n",
       "      <td>334200000.0</td>\n",
       "      <td>691300000</td>\n",
       "      <td>2010</td>\n",
       "    </tr>\n",
       "    <tr>\n",
       "      <th>2</th>\n",
       "      <td>Harry Potter and the Deathly Hallows Part 1</td>\n",
       "      <td>WB</td>\n",
       "      <td>296000000.0</td>\n",
       "      <td>664300000</td>\n",
       "      <td>2010</td>\n",
       "    </tr>\n",
       "    <tr>\n",
       "      <th>3</th>\n",
       "      <td>Inception</td>\n",
       "      <td>WB</td>\n",
       "      <td>292600000.0</td>\n",
       "      <td>535700000</td>\n",
       "      <td>2010</td>\n",
       "    </tr>\n",
       "    <tr>\n",
       "      <th>4</th>\n",
       "      <td>Shrek Forever After</td>\n",
       "      <td>P/DW</td>\n",
       "      <td>238700000.0</td>\n",
       "      <td>513900000</td>\n",
       "      <td>2010</td>\n",
       "    </tr>\n",
       "  </tbody>\n",
       "</table>\n",
       "</div>"
      ],
      "text/plain": [
       "                                         title studio  domestic_gross  \\\n",
       "0                                  Toy Story 3     BV     415000000.0   \n",
       "1                   Alice in Wonderland (2010)     BV     334200000.0   \n",
       "2  Harry Potter and the Deathly Hallows Part 1     WB     296000000.0   \n",
       "3                                    Inception     WB     292600000.0   \n",
       "4                          Shrek Forever After   P/DW     238700000.0   \n",
       "\n",
       "  foreign_gross  year  \n",
       "0     652000000  2010  \n",
       "1     691300000  2010  \n",
       "2     664300000  2010  \n",
       "3     535700000  2010  \n",
       "4     513900000  2010  "
      ]
     },
     "execution_count": 19,
     "metadata": {},
     "output_type": "execute_result"
    }
   ],
   "source": [
    "# getting a preview of the columns and some of the data\n",
    "\n",
    "movie_gross.head()"
   ]
  },
  {
   "cell_type": "code",
   "execution_count": 20,
   "metadata": {},
   "outputs": [
    {
     "data": {
      "text/plain": [
       "False    3387\n",
       "dtype: int64"
      ]
     },
     "execution_count": 20,
     "metadata": {},
     "output_type": "execute_result"
    }
   ],
   "source": [
    "# checking for duplicated indexes\n",
    "\n",
    "movie_gross.duplicated().value_counts()\n"
   ]
  },
  {
   "cell_type": "code",
   "execution_count": 21,
   "metadata": {},
   "outputs": [
    {
     "data": {
      "text/plain": [
       "title              0.000000\n",
       "studio             0.147623\n",
       "domestic_gross     0.826690\n",
       "foreign_gross     39.858282\n",
       "year               0.000000\n",
       "dtype: float64"
      ]
     },
     "execution_count": 21,
     "metadata": {},
     "output_type": "execute_result"
    }
   ],
   "source": [
    "# viewing missing values as a ratio against the length of the entire data set.\n",
    "\n",
    "movie_gross.isna().sum()/len(movie_gross)*100"
   ]
  },
  {
   "cell_type": "code",
   "execution_count": 22,
   "metadata": {},
   "outputs": [
    {
     "data": {
      "text/plain": [
       "title             0\n",
       "studio            0\n",
       "domestic_gross    0\n",
       "year              0\n",
       "dtype: int64"
      ]
     },
     "execution_count": 22,
     "metadata": {},
     "output_type": "execute_result"
    }
   ],
   "source": [
    "# removing indexes with blank values from domestic gross\n",
    "# removing indexes with blank values from studio\n",
    "# dropping the foreign gross column since the missing values are on the higher side and these cant be filled since the movies earnings are not correlated\n",
    "\n",
    "movie_gross.dropna(subset = ['domestic_gross'], axis =0, inplace = True)\n",
    "movie_gross.drop('foreign_gross', axis=1, inplace= True )\n",
    "movie_gross.dropna(subset = ['studio'], axis = 0, inplace= True)\n",
    "movie_gross.isna().sum()\n"
   ]
  },
  {
   "cell_type": "code",
   "execution_count": 23,
   "metadata": {},
   "outputs": [
    {
     "name": "stdout",
     "output_type": "stream",
     "text": [
      "<class 'pandas.core.frame.DataFrame'>\n",
      "Int64Index: 3356 entries, 0 to 3386\n",
      "Data columns (total 4 columns):\n",
      " #   Column          Non-Null Count  Dtype         \n",
      "---  ------          --------------  -----         \n",
      " 0   title           3356 non-null   object        \n",
      " 1   studio          3356 non-null   object        \n",
      " 2   domestic_gross  3356 non-null   float64       \n",
      " 3   year            3356 non-null   datetime64[ns]\n",
      "dtypes: datetime64[ns](1), float64(1), object(2)\n",
      "memory usage: 131.1+ KB\n"
     ]
    }
   ],
   "source": [
    "# changing the year to datetime format\n",
    "\n",
    "movie_gross['year']  = pd.to_datetime(movie_gross['year'])\n",
    "movie_gross.info()\n"
   ]
  },
  {
   "attachments": {},
   "cell_type": "markdown",
   "metadata": {},
   "source": [
    "we have created our sample ( movie_gross) and cleared any indexes with null values\n",
    "\n",
    "additionally the column foreign  gross has been dropped due to high ratio of missing data\n",
    "\n",
    "\n",
    "\n",
    "\n",
    "\n",
    "#####\n"
   ]
  },
  {
   "attachments": {},
   "cell_type": "markdown",
   "metadata": {},
   "source": [
    "\n",
    "\n",
    "\n",
    "### ANALYZING FOR COMPETITION IN THE MOVIE INDUSTRY\n"
   ]
  },
  {
   "attachments": {},
   "cell_type": "markdown",
   "metadata": {},
   "source": [
    "\n",
    "\n",
    "This is an analysis of the top grossing studios in the industry using the movie_gross data set. \n",
    "\n",
    "This will be grouped by studio and the mean value of  domestic gross to determine \n",
    "\n",
    "the current top grossing studios in the industry and used to determine market share.\n",
    "\n",
    "\n",
    "##"
   ]
  },
  {
   "cell_type": "code",
   "execution_count": 24,
   "metadata": {},
   "outputs": [],
   "source": [
    "# creating a new dataframe grouped_movies that groups our original data set by studio and calculates mean of their domestic gross\n",
    "\n",
    "grouped_movie = pd.DataFrame(movie_gross.groupby('studio')['domestic_gross'].mean())"
   ]
  },
  {
   "cell_type": "code",
   "execution_count": 25,
   "metadata": {},
   "outputs": [],
   "source": [
    "# getting a sample of the fist 10 highest grossing studios\n",
    "\n",
    "sample_studio = grouped_movie.sort_values(by = 'domestic_gross', ascending= False).head(10)"
   ]
  },
  {
   "cell_type": "code",
   "execution_count": 26,
   "metadata": {},
   "outputs": [
    {
     "data": {
      "text/html": [
       "<div>\n",
       "<style scoped>\n",
       "    .dataframe tbody tr th:only-of-type {\n",
       "        vertical-align: middle;\n",
       "    }\n",
       "\n",
       "    .dataframe tbody tr th {\n",
       "        vertical-align: top;\n",
       "    }\n",
       "\n",
       "    .dataframe thead th {\n",
       "        text-align: right;\n",
       "    }\n",
       "</style>\n",
       "<table border=\"1\" class=\"dataframe\">\n",
       "  <thead>\n",
       "    <tr style=\"text-align: right;\">\n",
       "      <th></th>\n",
       "      <th>domestic_gross</th>\n",
       "    </tr>\n",
       "    <tr>\n",
       "      <th>studio</th>\n",
       "      <th></th>\n",
       "    </tr>\n",
       "  </thead>\n",
       "  <tbody>\n",
       "    <tr>\n",
       "      <th>BV</th>\n",
       "      <td>1.737644e+08</td>\n",
       "    </tr>\n",
       "    <tr>\n",
       "      <th>P/DW</th>\n",
       "      <td>1.682900e+08</td>\n",
       "    </tr>\n",
       "    <tr>\n",
       "      <th>WB (NL)</th>\n",
       "      <td>8.879333e+07</td>\n",
       "    </tr>\n",
       "    <tr>\n",
       "      <th>Uni.</th>\n",
       "      <td>8.777138e+07</td>\n",
       "    </tr>\n",
       "    <tr>\n",
       "      <th>WB</th>\n",
       "      <td>8.691461e+07</td>\n",
       "    </tr>\n",
       "    <tr>\n",
       "      <th>Fox</th>\n",
       "      <td>8.051103e+07</td>\n",
       "    </tr>\n",
       "    <tr>\n",
       "      <th>Sony</th>\n",
       "      <td>7.761177e+07</td>\n",
       "    </tr>\n",
       "    <tr>\n",
       "      <th>Par.</th>\n",
       "      <td>7.609773e+07</td>\n",
       "    </tr>\n",
       "    <tr>\n",
       "      <th>MGM</th>\n",
       "      <td>6.666667e+07</td>\n",
       "    </tr>\n",
       "    <tr>\n",
       "      <th>Sum.</th>\n",
       "      <td>6.212473e+07</td>\n",
       "    </tr>\n",
       "  </tbody>\n",
       "</table>\n",
       "</div>"
      ],
      "text/plain": [
       "         domestic_gross\n",
       "studio                 \n",
       "BV         1.737644e+08\n",
       "P/DW       1.682900e+08\n",
       "WB (NL)    8.879333e+07\n",
       "Uni.       8.777138e+07\n",
       "WB         8.691461e+07\n",
       "Fox        8.051103e+07\n",
       "Sony       7.761177e+07\n",
       "Par.       7.609773e+07\n",
       "MGM        6.666667e+07\n",
       "Sum.       6.212473e+07"
      ]
     },
     "execution_count": 26,
     "metadata": {},
     "output_type": "execute_result"
    }
   ],
   "source": [
    "# getting a preview of the new data frame sample_studios\n",
    "\n",
    "sample_studio"
   ]
  },
  {
   "cell_type": "code",
   "execution_count": 27,
   "metadata": {},
   "outputs": [
    {
     "data": {
      "image/png": "[encoded data removed]",
      "text/plain": [
       "<Figure size 1080x720 with 1 Axes>"
      ]
     },
     "metadata": {},
     "output_type": "display_data"
    }
   ],
   "source": [
    "\n",
    "# plotting a pie chart of the mean against studios so as to get a better understanding of studio performance\n",
    "\n",
    "# converting my parameters to percentages of the total_gross, this will denote my pie chart values.\n",
    "\n",
    "total_gross = sample_studio['domestic_gross'].sum()\n",
    "percentage_share = (sample_studio['domestic_gross'] / total_gross) *100\n",
    "palette = sns.color_palette(\"magma\")\n",
    "fig, ax = plt.subplots(figsize = (15,10))\n",
    "ax.pie(percentage_share, labels=sample_studio.index, explode = [ 0.1,0.1,0,0,0,0,0,0,0,0], colors=palette, autopct='%1.1f%%', startangle=90)\n",
    "ax.set_title('Top 10 Studios Market Share', fontsize=15, fontweight='bold', color='blue')\n",
    "ax.set_facecolor('lightgray')\n",
    "plt.grid()\n",
    "plt.show()"
   ]
  },
  {
   "attachments": {},
   "cell_type": "markdown",
   "metadata": {},
   "source": [
    "From the pie chart it can be seen that the competition to be wary of is BV and P/DW who carved out a huge percentage of the market share.\n",
    "\n",
    "Another way to approach it is Microsoft could employ the strategies used by these studios\n",
    "\n",
    "##"
   ]
  },
  {
   "attachments": {},
   "cell_type": "markdown",
   "metadata": {},
   "source": [
    "##\n",
    "\n",
    "### ANALYZING COST OF PRODUCTION AGAINST THE RETURN ON INVESTMENT\n"
   ]
  },
  {
   "attachments": {},
   "cell_type": "markdown",
   "metadata": {},
   "source": [
    "This analysis attempts to find a correlation if any between the cost of production and return on investments\n",
    "\n",
    "the line graph is plotted production budget against the return on investment\n",
    "\n",
    "the dataset chosen for this is the mov_budg_sample\n",
    "##"
   ]
  },
  {
   "cell_type": "code",
   "execution_count": 28,
   "metadata": {},
   "outputs": [
    {
     "data": {
      "image/png": "[encoded data removed]",
      "text/plain": [
       "<Figure size 864x504 with 1 Axes>"
      ]
     },
     "metadata": {
      "needs_background": "light"
     },
     "output_type": "display_data"
    }
   ],
   "source": [
    "\n",
    "# plotting the graph and setting parameters\n",
    "\n",
    "plt.figure(figsize= (12, 7))\n",
    "\n",
    "sns.lineplot(x='return_on_inv',y='production_budget', data=mov_budg_sample, color = 'red', marker = 'o',\n",
    "         markerfacecolor = 'red', markersize = 12)\n",
    "\n",
    "plt.xlabel('return_on_inv',  fontsize = 13, fontweight = 'bold', color = 'green')\n",
    "plt.ylabel('production_budget', fontsize = 13, fontweight = 'bold', color = 'green')\n",
    "plt.title(' Cost of production',  fontsize = 13, fontweight = 'bold', color = 'green')\n",
    "plt.xticks( fontsize = 12, fontweight = 'bold', color = 'blue')\n",
    "plt.yticks( fontsize = 12, fontweight = 'bold', color = 'blue')\n",
    "plt.show()\n"
   ]
  },
  {
   "attachments": {},
   "cell_type": "markdown",
   "metadata": {},
   "source": [
    "from this line plot it can be seen that there is no direct correlation between high budget movies and returns made\n",
    "\n",
    "this can be surmised to mean that high spending will not necessarily translate to high returns which is dependent on audience numbers\n",
    "\n",
    "They may have spent alot of making a high budget but not many people would watch either ddue to ratings or critic reviews\n",
    "\n",
    "##"
   ]
  },
  {
   "attachments": {},
   "cell_type": "markdown",
   "metadata": {},
   "source": [
    "##\n",
    "\n",
    "### ANALYZING FOR THE MOST POPULAR GENRES GOING BY NUMBER OF VOTES\n"
   ]
  },
  {
   "attachments": {},
   "cell_type": "markdown",
   "metadata": {},
   "source": [
    "For this analysis the df3 data frame from im.db database was used.\n",
    "\n",
    "Column genres was grouped and numvotes mean calculated then sorted\n",
    "\n",
    "from highest to largest to determine popularity of grouped genres\n",
    "\n",
    "the number of votes was chosen since it indicated interaction from the audience  with the movies in those particular genres\n",
    "##"
   ]
  },
  {
   "cell_type": "code",
   "execution_count": 29,
   "metadata": {},
   "outputs": [
    {
     "data": {
      "text/html": [
       "<div>\n",
       "<style scoped>\n",
       "    .dataframe tbody tr th:only-of-type {\n",
       "        vertical-align: middle;\n",
       "    }\n",
       "\n",
       "    .dataframe tbody tr th {\n",
       "        vertical-align: top;\n",
       "    }\n",
       "\n",
       "    .dataframe thead th {\n",
       "        text-align: right;\n",
       "    }\n",
       "</style>\n",
       "<table border=\"1\" class=\"dataframe\">\n",
       "  <thead>\n",
       "    <tr style=\"text-align: right;\">\n",
       "      <th></th>\n",
       "      <th>numvotes</th>\n",
       "    </tr>\n",
       "    <tr>\n",
       "      <th>genres</th>\n",
       "      <th></th>\n",
       "    </tr>\n",
       "  </thead>\n",
       "  <tbody>\n",
       "    <tr>\n",
       "      <th>Action,Thriller</th>\n",
       "      <td>1.387769e+06</td>\n",
       "    </tr>\n",
       "    <tr>\n",
       "      <th>Drama,Western</th>\n",
       "      <td>1.211405e+06</td>\n",
       "    </tr>\n",
       "    <tr>\n",
       "      <th>Biography,Crime,Drama</th>\n",
       "      <td>1.035358e+06</td>\n",
       "    </tr>\n",
       "    <tr>\n",
       "      <th>Mystery,Thriller</th>\n",
       "      <td>1.005960e+06</td>\n",
       "    </tr>\n",
       "    <tr>\n",
       "      <th>Adventure,Drama,Sci-Fi</th>\n",
       "      <td>9.897250e+05</td>\n",
       "    </tr>\n",
       "    <tr>\n",
       "      <th>Action,Adventure,Sci-Fi</th>\n",
       "      <td>7.947448e+05</td>\n",
       "    </tr>\n",
       "    <tr>\n",
       "      <th>Action,Adventure,Fantasy</th>\n",
       "      <td>7.847800e+05</td>\n",
       "    </tr>\n",
       "    <tr>\n",
       "      <th>Action,Adventure,Comedy</th>\n",
       "      <td>7.712503e+05</td>\n",
       "    </tr>\n",
       "    <tr>\n",
       "      <th>Drama,Mystery,Thriller</th>\n",
       "      <td>7.615920e+05</td>\n",
       "    </tr>\n",
       "    <tr>\n",
       "      <th>Adventure,Family,Fantasy</th>\n",
       "      <td>7.196290e+05</td>\n",
       "    </tr>\n",
       "    <tr>\n",
       "      <th>Drama,Sci-Fi,Thriller</th>\n",
       "      <td>7.100180e+05</td>\n",
       "    </tr>\n",
       "    <tr>\n",
       "      <th>Biography,Comedy,Drama</th>\n",
       "      <td>6.773430e+05</td>\n",
       "    </tr>\n",
       "    <tr>\n",
       "      <th>Drama,Thriller</th>\n",
       "      <td>6.488540e+05</td>\n",
       "    </tr>\n",
       "    <tr>\n",
       "      <th>Adventure,Comedy,Crime</th>\n",
       "      <td>6.336040e+05</td>\n",
       "    </tr>\n",
       "    <tr>\n",
       "      <th>Action,Adventure,Biography</th>\n",
       "      <td>6.211930e+05</td>\n",
       "    </tr>\n",
       "  </tbody>\n",
       "</table>\n",
       "</div>"
      ],
      "text/plain": [
       "                                numvotes\n",
       "genres                                  \n",
       "Action,Thriller             1.387769e+06\n",
       "Drama,Western               1.211405e+06\n",
       "Biography,Crime,Drama       1.035358e+06\n",
       "Mystery,Thriller            1.005960e+06\n",
       "Adventure,Drama,Sci-Fi      9.897250e+05\n",
       "Action,Adventure,Sci-Fi     7.947448e+05\n",
       "Action,Adventure,Fantasy    7.847800e+05\n",
       "Action,Adventure,Comedy     7.712503e+05\n",
       "Drama,Mystery,Thriller      7.615920e+05\n",
       "Adventure,Family,Fantasy    7.196290e+05\n",
       "Drama,Sci-Fi,Thriller       7.100180e+05\n",
       "Biography,Comedy,Drama      6.773430e+05\n",
       "Drama,Thriller              6.488540e+05\n",
       "Adventure,Comedy,Crime      6.336040e+05\n",
       "Action,Adventure,Biography  6.211930e+05"
      ]
     },
     "execution_count": 29,
     "metadata": {},
     "output_type": "execute_result"
    }
   ],
   "source": [
    "# grouping the data by genre and calculating mean of num of votes, then transforming it into a data frame\n",
    "\n",
    "\n",
    "pop_genre = pd.DataFrame(df3.groupby('genres')['numvotes'].mean()).sort_values( by = 'numvotes', ascending = False).iloc[:15]\n",
    "pop_genre\n"
   ]
  },
  {
   "cell_type": "code",
   "execution_count": 38,
   "metadata": {},
   "outputs": [
    {
     "data": {
      "image/png": "[encoded data removed]",
      "text/plain": [
       "<Figure size 936x576 with 1 Axes>"
      ]
     },
     "metadata": {
      "needs_background": "light"
     },
     "output_type": "display_data"
    }
   ],
   "source": [
    "# setting parameters and plotting the graph of genres against number of votes\n",
    "\n",
    "\n",
    "plt.figure(figsize= (13, 8))\n",
    "\n",
    "palette = sns.color_palette(\"dark\")\n",
    "\n",
    "# plotting the graph and setting the labels and ticks\n",
    "\n",
    "plt.barh(pop_genre['numvotes'].index, pop_genre['numvotes'].values, color = palette)\n",
    "plt.xticks( rotation = 75, color = 'black', fontsize = 10)\n",
    "plt.ylabel('genres',  fontsize = 15,fontweight = 'bold', color = 'green')\n",
    "plt.xlabel('num of votes in mill', fontsize = 15, color = 'green')\n",
    "plt.title(' Most popular genres',  fontsize = 15, fontweight = 'bold', color = 'green')\n",
    "plt.yticks( fontsize = 12, fontweight = 'bold', color = 'black')\n",
    "plt.show()"
   ]
  },
  {
   "attachments": {},
   "cell_type": "markdown",
   "metadata": {},
   "source": [
    "This indicates the Action, Thriller genres are the most popular with adventure biography being the least.\n",
    "\n",
    "##"
   ]
  },
  {
   "attachments": {},
   "cell_type": "markdown",
   "metadata": {},
   "source": [
    "### ANALYZING FOR TOP RATED MOVIE CAST IN PARTICULAR DIRECTORS COMPARED AGAINST MOVIES PRODUCED AND THEIR AVERAGE RATINGS\n",
    "\n",
    "#"
   ]
  },
  {
   "attachments": {},
   "cell_type": "markdown",
   "metadata": {},
   "source": [
    "This is an analysis of top directors from the im.db database.\n",
    "\n",
    "This was weighed against number of movies made.\n",
    "\n",
    "The average rating was determined and mean calculated so as to get consistency of their performance.\n",
    "\n",
    "This is an analysis for recommendation purposes when it comes to hiring of staff for their first movies\n",
    "\n",
    "so as to get consistent quality output\n"
   ]
  },
  {
   "cell_type": "code",
   "execution_count": 31,
   "metadata": {},
   "outputs": [],
   "source": [
    "# importing all necessary libraries\n",
    "import matplotlib.patches as mpatches\n"
   ]
  },
  {
   "cell_type": "code",
   "execution_count": 32,
   "metadata": {},
   "outputs": [],
   "source": [
    "# getting director names, number of movies made and getting the mean of their ratings, this has been sourced from :-\n",
    "# director Table, persons, movie_basics, and movie ratings tables\n",
    "\n",
    "\n",
    "dir_rating = (\"\"\"\n",
    "      SELECT DISTINCT   primary_name, AVG(averagerating), COUNT(primary_name)\n",
    "      FROM directors\n",
    "      JOIN persons ON directors.person_id = persons.person_id\n",
    "      JOIN movie_basics ON movie_basics.movie_id = directors.movie_id\n",
    "      JOIN movie_ratings ON movie_ratings.movie_id = movie_basics.movie_id\n",
    "      GROUP BY primary_name\n",
    "      HAVING COUNT(primary_name) > 15 AND AVG(averagerating) > 8\n",
    "      ORDER BY AVG(averagerating) DESC\n",
    "              \"\"\")\n",
    "dir= pd.read_sql(dir_rating,conn)"
   ]
  },
  {
   "cell_type": "code",
   "execution_count": 33,
   "metadata": {},
   "outputs": [
    {
     "data": {
      "text/html": [
       "<div>\n",
       "<style scoped>\n",
       "    .dataframe tbody tr th:only-of-type {\n",
       "        vertical-align: middle;\n",
       "    }\n",
       "\n",
       "    .dataframe tbody tr th {\n",
       "        vertical-align: top;\n",
       "    }\n",
       "\n",
       "    .dataframe thead th {\n",
       "        text-align: right;\n",
       "    }\n",
       "</style>\n",
       "<table border=\"1\" class=\"dataframe\">\n",
       "  <thead>\n",
       "    <tr style=\"text-align: right;\">\n",
       "      <th></th>\n",
       "      <th>primary_name</th>\n",
       "      <th>AVG(averagerating)</th>\n",
       "      <th>COUNT(primary_name)</th>\n",
       "    </tr>\n",
       "  </thead>\n",
       "  <tbody>\n",
       "    <tr>\n",
       "      <th>0</th>\n",
       "      <td>Sylvia Broeckx</td>\n",
       "      <td>9.000000</td>\n",
       "      <td>28</td>\n",
       "    </tr>\n",
       "    <tr>\n",
       "      <th>1</th>\n",
       "      <td>Lisa Gossels</td>\n",
       "      <td>9.000000</td>\n",
       "      <td>17</td>\n",
       "    </tr>\n",
       "    <tr>\n",
       "      <th>2</th>\n",
       "      <td>Erin Korbylo</td>\n",
       "      <td>9.000000</td>\n",
       "      <td>28</td>\n",
       "    </tr>\n",
       "    <tr>\n",
       "      <th>3</th>\n",
       "      <td>Dennis Korbylo</td>\n",
       "      <td>9.000000</td>\n",
       "      <td>28</td>\n",
       "    </tr>\n",
       "    <tr>\n",
       "      <th>4</th>\n",
       "      <td>Anthony Russo</td>\n",
       "      <td>8.246667</td>\n",
       "      <td>30</td>\n",
       "    </tr>\n",
       "    <tr>\n",
       "      <th>5</th>\n",
       "      <td>Joe Russo</td>\n",
       "      <td>8.180645</td>\n",
       "      <td>31</td>\n",
       "    </tr>\n",
       "    <tr>\n",
       "      <th>6</th>\n",
       "      <td>Pauli Janhunen Calderón</td>\n",
       "      <td>8.152174</td>\n",
       "      <td>23</td>\n",
       "    </tr>\n",
       "    <tr>\n",
       "      <th>7</th>\n",
       "      <td>Jaco Van Dormael</td>\n",
       "      <td>8.106250</td>\n",
       "      <td>16</td>\n",
       "    </tr>\n",
       "  </tbody>\n",
       "</table>\n",
       "</div>"
      ],
      "text/plain": [
       "              primary_name  AVG(averagerating)  COUNT(primary_name)\n",
       "0           Sylvia Broeckx            9.000000                   28\n",
       "1             Lisa Gossels            9.000000                   17\n",
       "2             Erin Korbylo            9.000000                   28\n",
       "3           Dennis Korbylo            9.000000                   28\n",
       "4            Anthony Russo            8.246667                   30\n",
       "5                Joe Russo            8.180645                   31\n",
       "6  Pauli Janhunen Calderón            8.152174                   23\n",
       "7         Jaco Van Dormael            8.106250                   16"
      ]
     },
     "execution_count": 33,
     "metadata": {},
     "output_type": "execute_result"
    }
   ],
   "source": [
    "# passing dir_rating into a dataframe and selecting my sample to 8 most popular directors\n",
    "\n",
    "pop_dir = pd.DataFrame(dir).head(8)\n",
    "pop_dir"
   ]
  },
  {
   "cell_type": "code",
   "execution_count": 34,
   "metadata": {},
   "outputs": [
    {
     "data": {
      "image/png": "[encoded data removed]",
      "text/plain": [
       "<Figure size 1008x576 with 2 Axes>"
      ]
     },
     "metadata": {
      "needs_background": "light"
     },
     "output_type": "display_data"
    }
   ],
   "source": [
    "# setting graph size , width of the bars and assigning a second bar pli\n",
    "\n",
    "fig = plt.figure(figsize=(14,8))\n",
    "ax = fig.add_subplot(111)\n",
    "ax2 = ax.twinx()\n",
    "width = .35\n",
    "\n",
    "# setting the 'primary_name' as my x axis and assigning a variable popular\n",
    "\n",
    "popular = pop_dir.set_index('primary_name')\n",
    "\n",
    "\n",
    "# plotting my y axes editing colors and adding labels\n",
    "popular['AVG(averagerating)'].plot(kind='bar',color='orange',ax=ax,width=width, position=0, label = 'average rating')\n",
    "popular['COUNT(primary_name)'].plot(kind='bar', color = 'blue', ax=ax2,width = width,position=1, label = 'no of movies made')\n",
    "\n",
    "# editing of titles and y labels\n",
    "ax.set_title('BEST RATED DIRECTORS', fontweight='bold', fontsize = 14, color = 'green')\n",
    "ax.set_ylabel(' average rating', fontweight='bold',fontsize = 12)\n",
    "ax2.set_ylabel('no of movies made', fontweight='bold',fontsize = 12)\n",
    "\n",
    "# Add the legend\n",
    "orange_patch = mpatches.Patch(color='orange', label='average rating')\n",
    "blue_patch = mpatches.Patch(color='blue', label='no of movies made')\n",
    "\n",
    "plt.legend(handles=[orange_patch, blue_patch])\n",
    "\n",
    "# showing the graph in my workbook\n",
    "plt.grid()\n",
    "plt.show()\n"
   ]
  },
  {
   "attachments": {},
   "cell_type": "markdown",
   "metadata": {},
   "source": [
    "This graph shows a varied discrepancy between number of movies made and ratings of the particular directors\n",
    "\n",
    "Sylvia Broeckxx, Erin, and Dennis Korbylo have a higher rating compared to the rest and also a larger number of movies made\n",
    "\n",
    "This is a visualization of talents in the movie industry with vast experience and high quality work that can be contracted \n",
    "\n",
    "to Microsoft's studio debut into the movie industry\n"
   ]
  },
  {
   "attachments": {},
   "cell_type": "markdown",
   "metadata": {},
   "source": [
    "<span style=\"color:blue\">\n",
    "\n",
    "## **CONCLUSION**"
   ]
  },
  {
   "attachments": {},
   "cell_type": "markdown",
   "metadata": {},
   "source": [
    "**These are the recommendation made from the analysis above**\n",
    "\n",
    "##\n",
    "- **Employ talented and experienced directors to spearhead the first slate of movies from Microsoft**\n",
    "  \n",
    "  this with a combination of good marketing strategies would ensure recognition of the new studio\n",
    "\n",
    "- **Review expenditure into movie projects as this wont necessarily reap a proportional level of returns**\n",
    "\n",
    "  they should look into other qualitative aspects that translates ticket sales into profits like better writing or story telling, better source material and talented cast.\n",
    "\n",
    "- **Focus on making popular genres that resonate with the larger audience.**\n",
    "\n",
    "- **Benchmark the most popular studios** to find out their playbook of what established them as predominant studios and whether they can adopt some of their strategies\n",
    "  "
   ]
  }
 ],
 "metadata": {
  "kernelspec": {
   "display_name": "Python (learn-env)",
   "language": "python",
   "name": "learn-env"
  },
  "language_info": {
   "codemirror_mode": {
    "name": "ipython",
    "version": 3
   },
   "file_extension": ".py",
   "mimetype": "text/x-python",
   "name": "python",
   "nbconvert_exporter": "python",
   "pygments_lexer": "ipython3",
   "version": "3.8.5"
  }
 },
 "nbformat": 4,
 "nbformat_minor": 2
}
